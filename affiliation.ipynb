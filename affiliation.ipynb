{
 "cells": [
  {
   "cell_type": "markdown",
   "metadata": {},
   "source": [
    "## Persian Affiliations\n",
    "\n",
    "annotations dir: محل ذخیره ی فایل های نشانه گذاری شده\n",
    "\n",
    "json name format: نحوه ی نام گذاری فایل های جیسون\n",
    "\n",
    "papers text dir: محل ذخیره ی فایل های متنی صفحه ی اول مقالات\n",
    "\n",
    "text name format: نحوه ی نام گذاری فایل های متنی"
   ]
  },
  {
   "cell_type": "code",
   "execution_count": 15,
   "metadata": {},
   "outputs": [],
   "source": [
    "ANNOTATIONS_DIR = 'annotations/'\n",
    "JSON_NAME_FORMAT = 'metadata_ paper{number}.json'\n",
    "\n",
    "PAPERS_TEXT_DIR = 'train/'\n",
    "TXT_NAME_FORMAT = '{number}.txt'"
   ]
  },
  {
   "cell_type": "code",
   "execution_count": 2,
   "metadata": {},
   "outputs": [],
   "source": [
    "import os"
   ]
  },
  {
   "cell_type": "markdown",
   "metadata": {},
   "source": [
    "یافتن اندیس کلمه در جمله"
   ]
  },
  {
   "cell_type": "code",
   "execution_count": 3,
   "metadata": {},
   "outputs": [],
   "source": [
    "def find_abstract_index(sentence, word):\n",
    "    try:\n",
    "        return sentence.index(word)\n",
    "    except ValueError:\n",
    "        return None"
   ]
  },
  {
   "cell_type": "markdown",
   "metadata": {},
   "source": [
    "تابع محاسبه ی شباهت دو رشته بر اساس شاخص کسینوسی"
   ]
  },
  {
   "cell_type": "code",
   "execution_count": 4,
   "metadata": {},
   "outputs": [],
   "source": [
    "def cosine_sim(first, second):\n",
    "    X = {word for word in first.split()}\n",
    "    Y = {word for word in second.split()}\n",
    "\n",
    "    l1 = []\n",
    "    l2 = []\n",
    "\n",
    "    rvector = X.union(Y)  \n",
    "    for w in rvector:\n",
    "        if w in X:\n",
    "            l1.append(1)\n",
    "        else:\n",
    "            l1.append(0) \n",
    "        if w in Y:\n",
    "            l2.append(1) \n",
    "        else:\n",
    "            l2.append(0)\n",
    "    c = 0\n",
    "\n",
    "    for i in range(len(rvector)): \n",
    "            c += l1[i]*l2[i] \n",
    "    cosine = c / float((sum(l1)*sum(l2))**0.5) \n",
    "    \n",
    "    return cosine"
   ]
  },
  {
   "cell_type": "markdown",
   "metadata": {},
   "source": [
    "شمارش تعداد کلمات مرتبط در یک خط"
   ]
  },
  {
   "cell_type": "code",
   "execution_count": 5,
   "metadata": {},
   "outputs": [],
   "source": [
    "def count_affiliation_related_words(line):\n",
    "    affiliation_related_words = ['دانشگاه', 'استاد', 'کارشناسی', 'ارشد', 'دکتری',\\\n",
    "                                 'دانشکده', 'هیئت', 'هیأت', 'گروه', 'نویسنده'\\\n",
    "                                 'رشته', 'مربی', 'استادیار', 'دانشیار', 'استاد تمام',\\\n",
    "                                 'مدرس', 'دبیر', 'مکاتبات']\n",
    "    cnt = 0\n",
    "    for arw in affiliation_related_words:\n",
    "        if arw in line:\n",
    "            cnt += 1\n",
    "    return cnt+1 if 'استان' in line or 'شهرستان' in line else cnt"
   ]
  },
  {
   "cell_type": "markdown",
   "metadata": {},
   "source": [
    "پیمایش روی فایل های آموزش"
   ]
  },
  {
   "cell_type": "code",
   "execution_count": 6,
   "metadata": {},
   "outputs": [],
   "source": [
    "import re"
   ]
  },
  {
   "cell_type": "code",
   "execution_count": 7,
   "metadata": {},
   "outputs": [
    {
     "data": {
      "text/plain": [
       "['8', '14', '28', '601', '20', '25', '3', '24', '6', '26']"
      ]
     },
     "execution_count": 7,
     "metadata": {},
     "output_type": "execute_result"
    }
   ],
   "source": [
    "paper_numbers = [re.search(r'\\b\\d+\\b', s).group() for s in \\\n",
    "                 [file_name for file_name in os.listdir(PAPERS_TEXT_DIR)]]\n",
    "paper_numbers"
   ]
  },
  {
   "cell_type": "code",
   "execution_count": 8,
   "metadata": {},
   "outputs": [],
   "source": [
    "import json"
   ]
  },
  {
   "cell_type": "code",
   "execution_count": 9,
   "metadata": {},
   "outputs": [
    {
     "name": "stdout",
     "output_type": "stream",
     "text": [
      "\n",
      " ~~~~~~~~~~~~~~~~~~~~ 8.txt  VS  metadata_ paper8.json ~~~~~~~~~~~~~~~~~~~~\n",
      "\n",
      "annotated:\n",
      "\n",
      "دانشگاه آزاد اسلامی واحد علوم و تحقیقات تهران، دانشکده علوم پایه، گروه زیست شناسی، تهران، ایران\n",
      "\n",
      "دانشگاه آزاد اسلامی واحد تهران شمال، دانشکده علوم زیستی، گروه زیست شناسی، تهران، ایران\n",
      "\n",
      "دانشگاه آزاد اسلامی واحد تهران شمال، دانشکده علوم زیستی، گروه زیست شناسی، تهران، ایران\n",
      "\n",
      "دانشگاه آزاد اسلامی واحد علوم و تحقیقات تهران، دانشکده علوم پایه، گروه زیست شناسی، تهران، ایران\n",
      "\n",
      "\n",
      "searched:\n",
      "\n",
      "دانشگاه آزاد اسلامی واحد علوم و تحقیقات تهران، دانشکده علوم پایه، گروه زیست شناسی، تهران، ایران\n",
      "\n",
      "دانشگاه آزاد اسلامی واحد تهران شمال، دانشکده علوم زیستی، گروه زیست شناسی، تهران، ایران\n",
      "\n",
      "دانشگاه آزاد اسلامی واحد تهران شمال، دانشکده علوم زیستی، گروه زیست شناسی، تهران، ایران\n",
      "\n",
      "دانشگاه آزاد اسلامی واحد علوم و تحقیقات تهران، دانشکده علوم پایه، گروه زیست شناسی، تهران، ایران\n",
      "\n",
      "CORRECT\n",
      "\n",
      " ~~~~~~~~~~~~~~~~~~~~ 14.txt  VS  metadata_ paper14.json ~~~~~~~~~~~~~~~~~~~~\n",
      "\n",
      "annotated:\n",
      "\n",
      "استادیار دانشگاه آزاد اسلامی، واحد اسلامشهر\n",
      "\n",
      "\n",
      "searched:\n",
      "\n",
      "استادیار دانشگاه آزاد اسلامی، واحد اسلامشهر\n",
      "\n",
      "CORRECT\n",
      "\n",
      " ~~~~~~~~~~~~~~~~~~~~ 28.txt  VS  metadata_ paper28.json ~~~~~~~~~~~~~~~~~~~~\n",
      "\n",
      "annotated:\n",
      "\n",
      "(مسوول مکاتبات): کارشناس ارشد طراحی محیط زیست، دانشکده محیط زیست و انرژی، دانشگاه آزاد واحد علوم و تحقیقات، تهران، ایران.\n",
      "\n",
      " دکتری معماری، دانشیار دانشکده هنر و معماری دانشگاه تربیت مدرس، تهران، ایران.\n",
      "\n",
      "دانشیار معماری منظر طراحی شهری، دانشگاه بین المللی امام خمینی، تهران، ایران\n",
      "\n",
      "\n",
      "searched:\n",
      "\n",
      "ا- (مسوول مکاتبات): کارشناس ارشد طراحی محیط زیست، دانشکده محیط زیست و انرژی، دانشگاه آزاد واحد علوم و تحقیقات، تهران، ایران.\n",
      "\n",
      "۲- دکتری معماری، دانشیار دانشکده هنر و معماری دانشگاه تربیت مدرس، تهران، ایران.\n",
      "\n",
      "٣- دانشیار معماری منظر طراحی شهری، دانشگاه بین المللی امام خمینی، تهران، ایران.\n",
      "\n",
      "FALSE POSITIVE\n",
      "\n",
      " ~~~~~~~~~~~~~~~~~~~~ 601.txt  VS  metadata_ paper601.json ~~~~~~~~~~~~~~~~~~~~\n",
      "\n",
      "annotated:\n",
      "\n",
      "دانشیار گروه مدیریت آموزشی، واحد ساری، دانشگاه آزاد اسلامی، ساری، مازندران\n",
      "\n",
      "دانش آموخته دکتری رشته مدیریت آموزشی، واحد ساری، دانشگاه آزاد اسلامی، ساری، مازندران (نویسنده مسئول)\n",
      "\n",
      "کارشناس رشته تاریخ، دبیر آموزش و پرورش، شهرستان میاندرود، مازندران\n",
      "\n",
      "\n",
      "searched:\n",
      "\n",
      "دانشیار گروه مدیریت آموزشی، واحد ساری، دانشگاه آزاد اسلامی، ساری، مازندران\n",
      "\n",
      "دانش آموخته دکتری رشته مدیریت آموزشی، واحد ساری، دانشگاه آزاد اسلامی، ساری، مازندران (نویسنده مسئول)\n",
      "\n",
      "کارشناس رشته تاریخ، دبیر آموزش و پرورش، شهرستان میاندرود، مازندران\n",
      "\n",
      "CORRECT\n",
      "\n",
      " ~~~~~~~~~~~~~~~~~~~~ 20.txt  VS  metadata_ paper20.json ~~~~~~~~~~~~~~~~~~~~\n",
      "\n",
      "annotated:\n",
      "\n",
      "عضو هیأت علمی دانشگاه آزاد اسلامی واحد اصفهان (خوراسگان)، ایران\n",
      "\n",
      "دانشجوی دکتری توسعه کشاورزی، دانشگاه رازی کرمانشاه، ایران\n",
      "\n",
      "دانشیار دانشکده کشاورزی، دانشگاه رازی کرمانشاه، ایران\n",
      "\n",
      "\n",
      "searched:\n",
      "\n",
      "عضو هیأت علمی دانشگاه آزاد اسلامی واحد اصفهان (خوراسگان)، ایران\n",
      "\n",
      "دانشجوی دکتری توسعه کشاورزی، دانشگاه رازی کرمانشاه، ایران\n",
      "\n",
      "دانشیار دانشکده کشاورزی، دانشگاه رازی کرمانشاه، ایران\n",
      "\n",
      "CORRECT\n",
      "\n",
      " ~~~~~~~~~~~~~~~~~~~~ 25.txt  VS  metadata_ paper25.json ~~~~~~~~~~~~~~~~~~~~\n",
      "\n",
      "annotated:\n",
      "\n",
      "دانشجوی دکتری مدیریت فرهنگی دانشگاه آزاد اسلامی، واحد علوم و تحقیقات (نویسنده و مسئول مکاتبات)\n",
      "\n",
      "مدرس دانشگاه آزاد اسلامی واحد گرمسار\n",
      "\n",
      "\n",
      "searched:\n",
      "\n",
      "دانشجوی دکتری مدیریت فرهنگی دانشگاه آزاد اسلامی،\n",
      "\n",
      "مدرس دانشگاه آزاد اسلامی واحد گرمسار\n",
      "\n",
      "FALSE NEGATIVE\n",
      "\n",
      " ~~~~~~~~~~~~~~~~~~~~ 3.txt  VS  metadata_ paper3.json ~~~~~~~~~~~~~~~~~~~~\n",
      "\n",
      "annotated:\n",
      "\n",
      "کارشناسی ارشد ترویج و آموزش کشاورزی\n",
      "\n",
      "دانشیار دانشگاه آزاد اسلامی واحد علوم و تحقیقات تهران\n",
      "\n",
      "دانشجوی دکتری دانشگاه آزاد اسلامی واحد علوم و تحقیقات تهران\n",
      "\n",
      "\n",
      "searched:\n",
      "\n",
      "کارشناسی ارشد ترویج و آموزش کشاورزی\n",
      "\n",
      "دانشیار دانشگاه آزاد اسلامی واحد علوم و تحقیقات تهران\n",
      "\n",
      "دانشجوی دکتری دانشگاه آزاد اسلامی واحد علوم و تحقیقات تهران\n",
      "\n",
      "CORRECT\n",
      "\n",
      " ~~~~~~~~~~~~~~~~~~~~ 24.txt  VS  metadata_ paper24.json ~~~~~~~~~~~~~~~~~~~~\n",
      "\n",
      "annotated:\n",
      "\n",
      "عضو هیأت علمی گروه ادیان و عرفان دانشگاه سمنان\n",
      "\n",
      "دانش آموخته کارشناسی ارشد ادیان و عرفان دانشگاه سمنان\n",
      "\n",
      "\n",
      "searched:\n",
      "\n",
      "عضو هیأت علمی گروه ادیان و عرفان دانشگاه سمنان\n",
      "\n",
      "دانش آموخته کارشناسی ارشد ادیان و عرفان دانشگاه سمنان\n",
      "\n",
      "CORRECT\n",
      "\n",
      " ~~~~~~~~~~~~~~~~~~~~ 6.txt  VS  metadata_ paper6.json ~~~~~~~~~~~~~~~~~~~~\n",
      "\n",
      "annotated:\n",
      "\n",
      "دانشجوی کارشناسی ارشد گروه زراعت و اصلاح نباتات، دانشگاه آزاد اسلامی، واحد لاهیجان، ایران\n",
      "\n",
      "استادیار گروه مدیریت کشاورزی، دانشگاه آزاد اسلامی، واحد رشت، ایران\n",
      "\n",
      "\n",
      "searched:\n",
      "\n",
      "دانشجوی کارشناسی ارشد گروه زراعت و اصلاح نباتات، دانشگاه آزاد اسلامی، واحد لاهیجان، ایران\n",
      "\n",
      "استادیار گروه مدیریت کشاورزی، دانشگاه آزاد اسلامی، واحد رشت، ایران\n",
      "\n",
      "CORRECT\n",
      "\n",
      " ~~~~~~~~~~~~~~~~~~~~ 26.txt  VS  metadata_ paper26.json ~~~~~~~~~~~~~~~~~~~~\n",
      "\n",
      "annotated:\n",
      "\n",
      "دانشجوی کارشناسی ارشد رشته ترویج و آموزش کشاورزی، دانشگاه آزاد اسلامی، واحد علوم و تحقیقات، تهران ایران،\n",
      "\n",
      "دانشجوی کارشناسی ارشد رشته ترویج و آموزش کشاورزی، دانشگاه آزاد اسلامی، واحد علوم و تحقیقات، تهران ایران،\n",
      "\n",
      "استادیار گروه ترویج و آموزش کشاورزی، دانشگاه آزاد اسلامی، واحد علوم و تحقیقات، تهران، ایران\n",
      "\n",
      "\n",
      "searched:\n",
      "\n",
      "دانشجوی کارشناسی ارشد رشته ترویج و آموزش کشاورزی، دانشگاه آزاد اسلامی، واحد علوم و تحقیقات، تهران،\n",
      "\n",
      "دانشجوی کارشناسی ارشد رشته ترویج و آموزش کشاورزی، دانشگاه آزاد اسلامی، واحد علوم و تحقیقات، تهران،\n",
      "\n",
      "استادیار گروه ترویج و آموزش کشاورزی، دانشگاه آزاد اسلامی، واحد علوم و تحقیقات، تهران، ایران\n",
      "\n",
      "FALSE NEGATIVE\n"
     ]
    }
   ],
   "source": [
    "searched_affiliations = {}\n",
    "measures = {'FP':0, 'FN':0, 'CR':0}\n",
    "\n",
    "avg_sim, cnt = 0, 0\n",
    "for paper_number in paper_numbers:\n",
    "    searched_affiliations[paper_number] = []\n",
    "    \n",
    "    annotated_aff = \"\"\n",
    "    searched_aff = \"\"\n",
    "    \n",
    "    json_name = JSON_NAME_FORMAT.format(number=paper_number)\n",
    "    txt_name = TXT_NAME_FORMAT.format(number=paper_number)\n",
    "    print(\"\\n\", '~'*20, txt_name, ' VS ', json_name, '~'*20)\n",
    "\n",
    "    chekide = True  # در محدوده ی چکیده نیستیم\n",
    "    with open(PAPERS_TEXT_DIR+txt_name, 'r') as txt_file:\n",
    "    \n",
    "        print('\\nannotated:\\n')\n",
    "        with open(ANNOTATIONS_DIR+json_name) as json_file:\n",
    "            for aff in json.load(json_file)['affiliations']:\n",
    "                annotated_aff += aff\n",
    "                print(aff+'\\n')\n",
    "                \n",
    "        print('\\nsearched:\\n')\n",
    "        for line in txt_file.read().split('\\n'):\n",
    "            if find_abstract_index(line, 'چکیده') != None \\\n",
    "            or find_abstract_index(line, 'پیشگفتار') != None \\\n",
    "            or find_abstract_index(line, 'کلید') != None:\n",
    "                chekide = not chekide\n",
    "            elif chekide:\n",
    "                if count_affiliation_related_words(line) >= 2:\n",
    "                    searched_aff += line\n",
    "                    print(line+'\\n')\n",
    "                    searched_affiliations[paper_number].append(line)\n",
    "    cnt += 1\n",
    "    cs = cosine_sim(annotated_aff, searched_aff)\n",
    "    measures['CR'] += cs\n",
    "    if cs == 1:\n",
    "        print(\"CORRECT\")\n",
    "    elif len(annotated_aff) > len(searched_aff):\n",
    "        measures['FN'] += 1-cs\n",
    "        print(\"FALSE NEGATIVE\")\n",
    "    else:\n",
    "        measures['FP'] += 1-cs\n",
    "        print(\"FALSE POSITIVE\")\n",
    "    avg_sim += cs\n",
    "\n",
    "avg_sim /= cnt"
   ]
  },
  {
   "cell_type": "code",
   "execution_count": 10,
   "metadata": {},
   "outputs": [
    {
     "data": {
      "text/plain": [
       "0.9509070295551391"
      ]
     },
     "execution_count": 10,
     "metadata": {},
     "output_type": "execute_result"
    }
   ],
   "source": [
    "avg_sim"
   ]
  },
  {
   "cell_type": "markdown",
   "metadata": {},
   "source": [
    "مقایسه ی نسبی درصد جستجوهای صحیح و غلط"
   ]
  },
  {
   "cell_type": "code",
   "execution_count": 11,
   "metadata": {},
   "outputs": [
    {
     "data": {
      "image/png": "[encoded data removed]",
      "text/plain": [
       "<Figure size 432x288 with 1 Axes>"
      ]
     },
     "metadata": {},
     "output_type": "display_data"
    }
   ],
   "source": [
    "import matplotlib.pyplot as plt\n",
    "\n",
    "labels = 'FP', 'FN', 'CR'\n",
    "colors = 'blue', 'red', 'green'\n",
    "explode = (0, 0.2, 0.1) \n",
    "sizes = [x for x in measures.values()]\n",
    "\n",
    "fig1, ax1 = plt.subplots()\n",
    "ax1.pie(sizes, explode=explode, labels=labels, autopct='%1.1f%%',\n",
    "        shadow=False, startangle=90, colors=colors)\n",
    "ax1.axis('equal')\n",
    "\n",
    "plt.show()"
   ]
  },
  {
   "cell_type": "markdown",
   "metadata": {},
   "source": [
    "استخراج ایمیل های موجود در صفحه ی اول مقالات"
   ]
  },
  {
   "cell_type": "code",
   "execution_count": 12,
   "metadata": {},
   "outputs": [],
   "source": [
    "searched_emails = {}\n",
    "\n",
    "for paper_number in paper_numbers:\n",
    "    searched_emails[paper_number] = []\n",
    "\n",
    "    txt_name = TXT_NAME_FORMAT.format(number=paper_number)\n",
    "    with open(PAPERS_TEXT_DIR+txt_name, 'r') as txt_file:\n",
    "        contents = ''.join([line.strip() for line in txt_file.readlines()])\n",
    "        searched_emails[paper_number] = re.findall('[a-z][a-z0-9._-]*@[a-zA-Z]+\\.[A-Za-z]{1,3}'\\\n",
    "                                            , contents.replace(' ', ''))"
   ]
  },
  {
   "cell_type": "code",
   "execution_count": 13,
   "metadata": {},
   "outputs": [
    {
     "data": {
      "text/plain": [
       "{'8': ['haniyeh_jalali@yahoo.com'],\n",
       " '14': ['shamsmohammadjavad@yahoo.com'],\n",
       " '28': ['nakhaei.nas@gmail.Com'],\n",
       " '601': ['drsalehi@iausari.ac', 'm.t_motamed@yahoo.com'],\n",
       " '20': ['ramezani_masoud@yahoo.com'],\n",
       " '25': [],\n",
       " '3': ['sahar.dehyouri@gmail.com'],\n",
       " '24': ['j_firoozi@yahoo.com', 'tz.378945@gmail.com'],\n",
       " '6': ['allahyari@iaurasht.ac'],\n",
       " '26': ['lale_20062006@yahoo.com']}"
      ]
     },
     "execution_count": 13,
     "metadata": {},
     "output_type": "execute_result"
    }
   ],
   "source": [
    "searched_emails"
   ]
  },
  {
   "cell_type": "code",
   "execution_count": 14,
   "metadata": {},
   "outputs": [
    {
     "data": {
      "text/plain": [
       "{'8': ['دانشگاه آزاد اسلامی واحد علوم و تحقیقات تهران، دانشکده علوم پایه، گروه زیست شناسی، تهران، ایران',\n",
       "  'دانشگاه آزاد اسلامی واحد تهران شمال، دانشکده علوم زیستی، گروه زیست شناسی، تهران، ایران',\n",
       "  'دانشگاه آزاد اسلامی واحد تهران شمال، دانشکده علوم زیستی، گروه زیست شناسی، تهران، ایران',\n",
       "  'دانشگاه آزاد اسلامی واحد علوم و تحقیقات تهران، دانشکده علوم پایه، گروه زیست شناسی، تهران، ایران'],\n",
       " '14': ['استادیار دانشگاه آزاد اسلامی، واحد اسلامشهر'],\n",
       " '28': ['ا- (مسوول مکاتبات): کارشناس ارشد طراحی محیط زیست، دانشکده محیط زیست و انرژی، دانشگاه آزاد واحد علوم و تحقیقات، تهران، ایران.',\n",
       "  '۲- دکتری معماری، دانشیار دانشکده هنر و معماری دانشگاه تربیت مدرس، تهران، ایران.',\n",
       "  '٣- دانشیار معماری منظر طراحی شهری، دانشگاه بین المللی امام خمینی، تهران، ایران.'],\n",
       " '601': ['دانشیار گروه مدیریت آموزشی، واحد ساری، دانشگاه آزاد اسلامی، ساری، مازندران',\n",
       "  'دانش آموخته دکتری رشته مدیریت آموزشی، واحد ساری، دانشگاه آزاد اسلامی، ساری، مازندران (نویسنده مسئول)',\n",
       "  'کارشناس رشته تاریخ، دبیر آموزش و پرورش، شهرستان میاندرود، مازندران'],\n",
       " '20': ['عضو هیأت علمی دانشگاه آزاد اسلامی واحد اصفهان (خوراسگان)، ایران',\n",
       "  'دانشجوی دکتری توسعه کشاورزی، دانشگاه رازی کرمانشاه، ایران',\n",
       "  'دانشیار دانشکده کشاورزی، دانشگاه رازی کرمانشاه، ایران'],\n",
       " '25': ['دانشجوی دکتری مدیریت فرهنگی دانشگاه آزاد اسلامی،',\n",
       "  'مدرس دانشگاه آزاد اسلامی واحد گرمسار'],\n",
       " '3': ['کارشناسی ارشد ترویج و آموزش کشاورزی',\n",
       "  'دانشیار دانشگاه آزاد اسلامی واحد علوم و تحقیقات تهران',\n",
       "  'دانشجوی دکتری دانشگاه آزاد اسلامی واحد علوم و تحقیقات تهران'],\n",
       " '24': ['عضو هیأت علمی گروه ادیان و عرفان دانشگاه سمنان',\n",
       "  'دانش آموخته کارشناسی ارشد ادیان و عرفان دانشگاه سمنان'],\n",
       " '6': ['دانشجوی کارشناسی ارشد گروه زراعت و اصلاح نباتات، دانشگاه آزاد اسلامی، واحد لاهیجان، ایران',\n",
       "  'استادیار گروه مدیریت کشاورزی، دانشگاه آزاد اسلامی، واحد رشت، ایران'],\n",
       " '26': ['دانشجوی کارشناسی ارشد رشته ترویج و آموزش کشاورزی، دانشگاه آزاد اسلامی، واحد علوم و تحقیقات، تهران،',\n",
       "  'دانشجوی کارشناسی ارشد رشته ترویج و آموزش کشاورزی، دانشگاه آزاد اسلامی، واحد علوم و تحقیقات، تهران،',\n",
       "  'استادیار گروه ترویج و آموزش کشاورزی، دانشگاه آزاد اسلامی، واحد علوم و تحقیقات، تهران، ایران']}"
      ]
     },
     "execution_count": 14,
     "metadata": {},
     "output_type": "execute_result"
    }
   ],
   "source": [
    "searched_affiliations"
   ]
  }
 ],
 "metadata": {
  "kernelspec": {
   "display_name": "Python 3",
   "language": "python",
   "name": "python3"
  },
  "language_info": {
   "codemirror_mode": {
    "name": "ipython",
    "version": 3
   },
   "file_extension": ".py",
   "mimetype": "text/x-python",
   "name": "python",
   "nbconvert_exporter": "python",
   "pygments_lexer": "ipython3",
   "version": "3.8.2"
  }
 },
 "nbformat": 4,
 "nbformat_minor": 4
}
